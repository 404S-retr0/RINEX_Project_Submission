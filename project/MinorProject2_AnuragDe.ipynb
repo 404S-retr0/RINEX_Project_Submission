{
  "nbformat": 4,
  "nbformat_minor": 0,
  "metadata": {
    "colab": {
      "name": "MinorProject2_AnuragDe.ipynb",
      "provenance": [],
      "collapsed_sections": [],
      "include_colab_link": true
    },
    "kernelspec": {
      "name": "python3",
      "display_name": "Python 3"
    },
    "language_info": {
      "name": "python"
    }
  },
  "cells": [
    {
      "cell_type": "markdown",
      "metadata": {
        "id": "view-in-github",
        "colab_type": "text"
      },
      "source": [
        "<a href=\"https://colab.research.google.com/github/404S-retr0/RINEX_Project_Submission/blob/main/project/MinorProject2_AnuragDe.ipynb\" target=\"_parent\"><img src=\"https://colab.research.google.com/assets/colab-badge.svg\" alt=\"Open In Colab\"/></a>"
      ]
    },
    {
      "cell_type": "markdown",
      "source": [
        "##convert Text->Speech in python"
      ],
      "metadata": {
        "id": "zffO3FY2Lsm_"
      }
    },
    {
      "cell_type": "code",
      "execution_count": 1,
      "metadata": {
        "id": "v7e-8T7TFSvw",
        "colab": {
          "base_uri": "https://localhost:8080/"
        },
        "outputId": "4cc80bfe-ad07-456a-cbfa-fbb21b01e23d"
      },
      "outputs": [
        {
          "output_type": "stream",
          "name": "stdout",
          "text": [
            "Requirement already satisfied: gTTS in /usr/local/lib/python3.7/dist-packages (2.2.3)\n",
            "Requirement already satisfied: click in /usr/local/lib/python3.7/dist-packages (from gTTS) (7.1.2)\n",
            "Requirement already satisfied: requests in /usr/local/lib/python3.7/dist-packages (from gTTS) (2.23.0)\n",
            "Requirement already satisfied: six in /usr/local/lib/python3.7/dist-packages (from gTTS) (1.15.0)\n",
            "Requirement already satisfied: chardet<4,>=3.0.2 in /usr/local/lib/python3.7/dist-packages (from requests->gTTS) (3.0.4)\n",
            "Requirement already satisfied: certifi>=2017.4.17 in /usr/local/lib/python3.7/dist-packages (from requests->gTTS) (2021.10.8)\n",
            "Requirement already satisfied: idna<3,>=2.5 in /usr/local/lib/python3.7/dist-packages (from requests->gTTS) (2.10)\n",
            "Requirement already satisfied: urllib3!=1.25.0,!=1.25.1,<1.26,>=1.21.1 in /usr/local/lib/python3.7/dist-packages (from requests->gTTS) (1.24.3)\n"
          ]
        }
      ],
      "source": [
        "!pip install gTTS"
      ]
    },
    {
      "cell_type": "code",
      "source": [
        "from gtts import gTTS #Import particular required module for text -> speech conversion\n",
        "from IPython.display import Audio #Import required module to listen the audio\n",
        "def text2speech(intext,inlang,infilename):\n",
        "  obj=gTTS(text=intext,lang=inlang,slow=False)\n",
        "  obj.save(infilename+\".mp3\")\n",
        "  print(\"Speech:\\n\");\n",
        "  return Audio(data= infilename+\".mp3\",autoplay=False)"
      ],
      "metadata": {
        "id": "KLnepnU2MN7D"
      },
      "execution_count": 2,
      "outputs": []
    },
    {
      "cell_type": "code",
      "source": [
        "text2speech(\"hello my name is Anurag De.\",'en',\"first\")"
      ],
      "metadata": {
        "colab": {
          "base_uri": "https://localhost:8080/",
          "height": 112
        },
        "id": "NJfwv0HcOdyC",
        "outputId": "54e7d30b-73e3-4e8a-a3da-0beb81329140"
      },
      "execution_count": 3,
      "outputs": [
        {
          "output_type": "stream",
          "name": "stdout",
          "text": [
            "Speech:\n",
            "\n"
          ]
        },
        {
          "output_type": "execute_result",
          "data": {
            "text/html": [
              "\n",
              "                <audio controls=\"controls\" >\n",
              "                    <source src=\"data:audio/mpeg;base64,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\" type=\"audio/mpeg\" />\n",
              "                    Your browser does not support the audio element.\n",
              "                </audio>\n",
              "              "
            ],
            "text/plain": [
              "<IPython.lib.display.Audio object>"
            ]
          },
          "metadata": {},
          "execution_count": 3
        }
      ]
    },
    {
      "cell_type": "markdown",
      "source": [
        "##convert Speech->Text in python"
      ],
      "metadata": {
        "id": "-cfxGHt6ROkK"
      }
    },
    {
      "cell_type": "code",
      "source": [
        "!pip install SpeechRecognition\n",
        "! apt-get install ffmpeg \n",
        "!pip install pydub\n",
        "!pip install PyAudio"
      ],
      "metadata": {
        "colab": {
          "base_uri": "https://localhost:8080/"
        },
        "id": "adUNNzZSRYd0",
        "outputId": "e7fc786a-915e-4480-a3db-6e8054cd8346"
      },
      "execution_count": 4,
      "outputs": [
        {
          "output_type": "stream",
          "name": "stdout",
          "text": [
            "Requirement already satisfied: SpeechRecognition in /usr/local/lib/python3.7/dist-packages (3.8.1)\n",
            "Reading package lists... Done\n",
            "Building dependency tree       \n",
            "Reading state information... Done\n",
            "ffmpeg is already the newest version (7:3.4.8-0ubuntu0.2).\n",
            "0 upgraded, 0 newly installed, 0 to remove and 37 not upgraded.\n",
            "Requirement already satisfied: pydub in /usr/local/lib/python3.7/dist-packages (0.25.1)\n",
            "Collecting PyAudio\n",
            "  Using cached PyAudio-0.2.11.tar.gz (37 kB)\n",
            "Building wheels for collected packages: PyAudio\n",
            "  Building wheel for PyAudio (setup.py) ... \u001b[?25lerror\n",
            "\u001b[31m  ERROR: Failed building wheel for PyAudio\u001b[0m\n",
            "\u001b[?25h  Running setup.py clean for PyAudio\n",
            "Failed to build PyAudio\n",
            "Installing collected packages: PyAudio\n",
            "    Running setup.py install for PyAudio ... \u001b[?25l\u001b[?25herror\n",
            "\u001b[31mERROR: Command errored out with exit status 1: /usr/bin/python3 -u -c 'import io, os, sys, setuptools, tokenize; sys.argv[0] = '\"'\"'/tmp/pip-install-ctzwgc64/pyaudio_9ee8a3c9e3094987897ad97f929fd652/setup.py'\"'\"'; __file__='\"'\"'/tmp/pip-install-ctzwgc64/pyaudio_9ee8a3c9e3094987897ad97f929fd652/setup.py'\"'\"';f = getattr(tokenize, '\"'\"'open'\"'\"', open)(__file__) if os.path.exists(__file__) else io.StringIO('\"'\"'from setuptools import setup; setup()'\"'\"');code = f.read().replace('\"'\"'\\r\\n'\"'\"', '\"'\"'\\n'\"'\"');f.close();exec(compile(code, __file__, '\"'\"'exec'\"'\"'))' install --record /tmp/pip-record-6m9vg6s4/install-record.txt --single-version-externally-managed --compile --install-headers /usr/local/include/python3.7/PyAudio Check the logs for full command output.\u001b[0m\n"
          ]
        }
      ]
    },
    {
      "cell_type": "code",
      "source": [
        "import speech_recognition as sr #Import particular required module for speech -> text conversion\n",
        "import os\n",
        "def speech2text(infilename):\n",
        "  if \".mp3\" in infilename: #Convert mp3 to wav,if filetype= .mp3\n",
        "    from os import path\n",
        "    from pydub import AudioSegment                                                                      \n",
        "    src = infilename\n",
        "    sub_list = [\".mp3\"]\n",
        "    for sub in sub_list:\n",
        "        infilename = infilename.replace(sub,'')\n",
        "    dst = infilename+\".wav\"                                                                \n",
        "    sound = AudioSegment.from_mp3(src)\n",
        "    sound.export(dst, format=\"wav\")\n",
        "\n",
        "  r=sr.Recognizer()\n",
        "  with sr.AudioFile(infilename) as source:\n",
        "    audio=r.listen(source)  \n",
        "  try:\n",
        "    s=r.recognize_google(audio)\n",
        "    print(\"Text:\\n\"+s);\n",
        "  except Exception as e:\n",
        "    print(\"Exception:\\n\"+str(e))"
      ],
      "metadata": {
        "id": "uFP0AevpSD2D"
      },
      "execution_count": 5,
      "outputs": []
    },
    {
      "cell_type": "code",
      "source": [
        "!wget https://github.com/404S-retr0/RINEX_Project_Submission/blob/main/data/demo.wav?raw=true -O demo.wav #Getting demo.wav\n",
        "speech2text(\"demo.wav\")"
      ],
      "metadata": {
        "colab": {
          "base_uri": "https://localhost:8080/"
        },
        "id": "CObnCP7KTEl2",
        "outputId": "1b0c9be3-b40c-4ec8-bce2-72a9e4ed5c97"
      },
      "execution_count": 6,
      "outputs": [
        {
          "output_type": "stream",
          "name": "stdout",
          "text": [
            "--2022-01-13 08:50:27--  https://github.com/404S-retr0/RINEX_Project_Submission/blob/main/data/demo.wav?raw=true\n",
            "Resolving github.com (github.com)... 52.192.72.89\n",
            "Connecting to github.com (github.com)|52.192.72.89|:443... connected.\n",
            "HTTP request sent, awaiting response... 302 Found\n",
            "Location: https://github.com/404S-retr0/RINEX_Project_Submission/raw/main/data/demo.wav [following]\n",
            "--2022-01-13 08:50:28--  https://github.com/404S-retr0/RINEX_Project_Submission/raw/main/data/demo.wav\n",
            "Reusing existing connection to github.com:443.\n",
            "HTTP request sent, awaiting response... 302 Found\n",
            "Location: https://raw.githubusercontent.com/404S-retr0/RINEX_Project_Submission/main/data/demo.wav [following]\n",
            "--2022-01-13 08:50:28--  https://raw.githubusercontent.com/404S-retr0/RINEX_Project_Submission/main/data/demo.wav\n",
            "Resolving raw.githubusercontent.com (raw.githubusercontent.com)... 185.199.108.133, 185.199.109.133, 185.199.110.133, ...\n",
            "Connecting to raw.githubusercontent.com (raw.githubusercontent.com)|185.199.108.133|:443... connected.\n",
            "HTTP request sent, awaiting response... 200 OK\n",
            "Length: 538014 (525K) [audio/wav]\n",
            "Saving to: ‘demo.wav’\n",
            "\n",
            "demo.wav            100%[===================>] 525.40K  --.-KB/s    in 0.05s   \n",
            "\n",
            "2022-01-13 08:50:29 (9.48 MB/s) - ‘demo.wav’ saved [538014/538014]\n",
            "\n",
            "Text:\n",
            "search canoe slid on the smooth plank glue the sea to a dark blue background it is easy to tell the depth of the well these days a chicken leg of a very good price is often served in Randall's the juice of lemons makes find the boxes down beside the pump truck the Hager said top corn and garbage\n"
          ]
        }
      ]
    }
  ]
}