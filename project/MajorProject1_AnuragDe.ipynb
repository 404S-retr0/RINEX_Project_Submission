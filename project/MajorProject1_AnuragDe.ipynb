{
  "nbformat": 4,
  "nbformat_minor": 0,
  "metadata": {
    "colab": {
      "name": "MajorProject1_AnuragDe.ipynb",
      "provenance": [],
      "collapsed_sections": []
    },
    "kernelspec": {
      "name": "python3",
      "display_name": "Python 3"
    },
    "language_info": {
      "name": "python"
    }
  },
  "cells": [
    {
      "cell_type": "markdown",
      "source": [
        "#Breast Cancer Detection using ANN"
      ],
      "metadata": {
        "id": "iUiRBgPk6pKZ"
      }
    },
    {
      "cell_type": "markdown",
      "source": [
        "#Data Wrangling"
      ],
      "metadata": {
        "id": "SSVGtRzsv-F3"
      }
    },
    {
      "cell_type": "code",
      "source": [
        "!wget http://archive.ics.uci.edu/ml/machine-learning-databases/breast-cancer-wisconsin/breast-cancer-wisconsin.data #Getting data from Breast Cancer Wisconsin (Diagnostic) Data Set\n",
        "import pandas as pd\n",
        "read_file = pd.read_csv (r'/content/breast-cancer-wisconsin.data')\n",
        "read_file.to_csv (r'/content/breast-cancer-wisconsin.csv', index=None) #Convert to.csv\n",
        "data = pd.read_csv('breast-cancer-wisconsin.csv', header = None) \n",
        "data.columns = ['id','ct','ucsize','ucshape','ma','secs','bn','bc','nn','miti','class']\n",
        "df = pd.DataFrame(data) #Convert to Dataframe\n",
        "df"
      ],
      "metadata": {
        "colab": {
          "base_uri": "https://localhost:8080/",
          "height": 625
        },
        "id": "PxnXXrS1dl5F",
        "outputId": "4b8f52ff-d797-4a64-848d-b739678ea35e"
      },
      "execution_count": 1,
      "outputs": [
        {
          "output_type": "stream",
          "name": "stdout",
          "text": [
            "--2022-01-13 14:51:52--  http://archive.ics.uci.edu/ml/machine-learning-databases/breast-cancer-wisconsin/breast-cancer-wisconsin.data\n",
            "Resolving archive.ics.uci.edu (archive.ics.uci.edu)... 128.195.10.252\n",
            "Connecting to archive.ics.uci.edu (archive.ics.uci.edu)|128.195.10.252|:80... connected.\n",
            "HTTP request sent, awaiting response... 200 OK\n",
            "Length: 19889 (19K) [application/x-httpd-php]\n",
            "Saving to: ‘breast-cancer-wisconsin.data’\n",
            "\n",
            "breast-cancer-wisco 100%[===================>]  19.42K  --.-KB/s    in 0.06s   \n",
            "\n",
            "2022-01-13 14:51:52 (305 KB/s) - ‘breast-cancer-wisconsin.data’ saved [19889/19889]\n",
            "\n"
          ]
        },
        {
          "output_type": "execute_result",
          "data": {
            "text/html": [
              "\n",
              "  <div id=\"df-bdee8d8e-8369-4e7b-935e-5c6fa21851d8\">\n",
              "    <div class=\"colab-df-container\">\n",
              "      <div>\n",
              "<style scoped>\n",
              "    .dataframe tbody tr th:only-of-type {\n",
              "        vertical-align: middle;\n",
              "    }\n",
              "\n",
              "    .dataframe tbody tr th {\n",
              "        vertical-align: top;\n",
              "    }\n",
              "\n",
              "    .dataframe thead th {\n",
              "        text-align: right;\n",
              "    }\n",
              "</style>\n",
              "<table border=\"1\" class=\"dataframe\">\n",
              "  <thead>\n",
              "    <tr style=\"text-align: right;\">\n",
              "      <th></th>\n",
              "      <th>id</th>\n",
              "      <th>ct</th>\n",
              "      <th>ucsize</th>\n",
              "      <th>ucshape</th>\n",
              "      <th>ma</th>\n",
              "      <th>secs</th>\n",
              "      <th>bn</th>\n",
              "      <th>bc</th>\n",
              "      <th>nn</th>\n",
              "      <th>miti</th>\n",
              "      <th>class</th>\n",
              "    </tr>\n",
              "  </thead>\n",
              "  <tbody>\n",
              "    <tr>\n",
              "      <th>0</th>\n",
              "      <td>1000025</td>\n",
              "      <td>5</td>\n",
              "      <td>1</td>\n",
              "      <td>1.1</td>\n",
              "      <td>1.2</td>\n",
              "      <td>2</td>\n",
              "      <td>1.3</td>\n",
              "      <td>3</td>\n",
              "      <td>1.4</td>\n",
              "      <td>1.5</td>\n",
              "      <td>2.1</td>\n",
              "    </tr>\n",
              "    <tr>\n",
              "      <th>1</th>\n",
              "      <td>1002945</td>\n",
              "      <td>5</td>\n",
              "      <td>4</td>\n",
              "      <td>4.0</td>\n",
              "      <td>5.0</td>\n",
              "      <td>7</td>\n",
              "      <td>10</td>\n",
              "      <td>3</td>\n",
              "      <td>2.0</td>\n",
              "      <td>1.0</td>\n",
              "      <td>2.0</td>\n",
              "    </tr>\n",
              "    <tr>\n",
              "      <th>2</th>\n",
              "      <td>1015425</td>\n",
              "      <td>3</td>\n",
              "      <td>1</td>\n",
              "      <td>1.0</td>\n",
              "      <td>1.0</td>\n",
              "      <td>2</td>\n",
              "      <td>2</td>\n",
              "      <td>3</td>\n",
              "      <td>1.0</td>\n",
              "      <td>1.0</td>\n",
              "      <td>2.0</td>\n",
              "    </tr>\n",
              "    <tr>\n",
              "      <th>3</th>\n",
              "      <td>1016277</td>\n",
              "      <td>6</td>\n",
              "      <td>8</td>\n",
              "      <td>8.0</td>\n",
              "      <td>1.0</td>\n",
              "      <td>3</td>\n",
              "      <td>4</td>\n",
              "      <td>3</td>\n",
              "      <td>7.0</td>\n",
              "      <td>1.0</td>\n",
              "      <td>2.0</td>\n",
              "    </tr>\n",
              "    <tr>\n",
              "      <th>4</th>\n",
              "      <td>1017023</td>\n",
              "      <td>4</td>\n",
              "      <td>1</td>\n",
              "      <td>1.0</td>\n",
              "      <td>3.0</td>\n",
              "      <td>2</td>\n",
              "      <td>1</td>\n",
              "      <td>3</td>\n",
              "      <td>1.0</td>\n",
              "      <td>1.0</td>\n",
              "      <td>2.0</td>\n",
              "    </tr>\n",
              "    <tr>\n",
              "      <th>...</th>\n",
              "      <td>...</td>\n",
              "      <td>...</td>\n",
              "      <td>...</td>\n",
              "      <td>...</td>\n",
              "      <td>...</td>\n",
              "      <td>...</td>\n",
              "      <td>...</td>\n",
              "      <td>...</td>\n",
              "      <td>...</td>\n",
              "      <td>...</td>\n",
              "      <td>...</td>\n",
              "    </tr>\n",
              "    <tr>\n",
              "      <th>694</th>\n",
              "      <td>776715</td>\n",
              "      <td>3</td>\n",
              "      <td>1</td>\n",
              "      <td>1.0</td>\n",
              "      <td>1.0</td>\n",
              "      <td>3</td>\n",
              "      <td>2</td>\n",
              "      <td>1</td>\n",
              "      <td>1.0</td>\n",
              "      <td>1.0</td>\n",
              "      <td>2.0</td>\n",
              "    </tr>\n",
              "    <tr>\n",
              "      <th>695</th>\n",
              "      <td>841769</td>\n",
              "      <td>2</td>\n",
              "      <td>1</td>\n",
              "      <td>1.0</td>\n",
              "      <td>1.0</td>\n",
              "      <td>2</td>\n",
              "      <td>1</td>\n",
              "      <td>1</td>\n",
              "      <td>1.0</td>\n",
              "      <td>1.0</td>\n",
              "      <td>2.0</td>\n",
              "    </tr>\n",
              "    <tr>\n",
              "      <th>696</th>\n",
              "      <td>888820</td>\n",
              "      <td>5</td>\n",
              "      <td>10</td>\n",
              "      <td>10.0</td>\n",
              "      <td>3.0</td>\n",
              "      <td>7</td>\n",
              "      <td>3</td>\n",
              "      <td>8</td>\n",
              "      <td>10.0</td>\n",
              "      <td>2.0</td>\n",
              "      <td>4.0</td>\n",
              "    </tr>\n",
              "    <tr>\n",
              "      <th>697</th>\n",
              "      <td>897471</td>\n",
              "      <td>4</td>\n",
              "      <td>8</td>\n",
              "      <td>6.0</td>\n",
              "      <td>4.0</td>\n",
              "      <td>3</td>\n",
              "      <td>4</td>\n",
              "      <td>10</td>\n",
              "      <td>6.0</td>\n",
              "      <td>1.0</td>\n",
              "      <td>4.0</td>\n",
              "    </tr>\n",
              "    <tr>\n",
              "      <th>698</th>\n",
              "      <td>897471</td>\n",
              "      <td>4</td>\n",
              "      <td>8</td>\n",
              "      <td>8.0</td>\n",
              "      <td>5.0</td>\n",
              "      <td>4</td>\n",
              "      <td>5</td>\n",
              "      <td>10</td>\n",
              "      <td>4.0</td>\n",
              "      <td>1.0</td>\n",
              "      <td>4.0</td>\n",
              "    </tr>\n",
              "  </tbody>\n",
              "</table>\n",
              "<p>699 rows × 11 columns</p>\n",
              "</div>\n",
              "      <button class=\"colab-df-convert\" onclick=\"convertToInteractive('df-bdee8d8e-8369-4e7b-935e-5c6fa21851d8')\"\n",
              "              title=\"Convert this dataframe to an interactive table.\"\n",
              "              style=\"display:none;\">\n",
              "        \n",
              "  <svg xmlns=\"http://www.w3.org/2000/svg\" height=\"24px\"viewBox=\"0 0 24 24\"\n",
              "       width=\"24px\">\n",
              "    <path d=\"M0 0h24v24H0V0z\" fill=\"none\"/>\n",
              "    <path d=\"M18.56 5.44l.94 2.06.94-2.06 2.06-.94-2.06-.94-.94-2.06-.94 2.06-2.06.94zm-11 1L8.5 8.5l.94-2.06 2.06-.94-2.06-.94L8.5 2.5l-.94 2.06-2.06.94zm10 10l.94 2.06.94-2.06 2.06-.94-2.06-.94-.94-2.06-.94 2.06-2.06.94z\"/><path d=\"M17.41 7.96l-1.37-1.37c-.4-.4-.92-.59-1.43-.59-.52 0-1.04.2-1.43.59L10.3 9.45l-7.72 7.72c-.78.78-.78 2.05 0 2.83L4 21.41c.39.39.9.59 1.41.59.51 0 1.02-.2 1.41-.59l7.78-7.78 2.81-2.81c.8-.78.8-2.07 0-2.86zM5.41 20L4 18.59l7.72-7.72 1.47 1.35L5.41 20z\"/>\n",
              "  </svg>\n",
              "      </button>\n",
              "      \n",
              "  <style>\n",
              "    .colab-df-container {\n",
              "      display:flex;\n",
              "      flex-wrap:wrap;\n",
              "      gap: 12px;\n",
              "    }\n",
              "\n",
              "    .colab-df-convert {\n",
              "      background-color: #E8F0FE;\n",
              "      border: none;\n",
              "      border-radius: 50%;\n",
              "      cursor: pointer;\n",
              "      display: none;\n",
              "      fill: #1967D2;\n",
              "      height: 32px;\n",
              "      padding: 0 0 0 0;\n",
              "      width: 32px;\n",
              "    }\n",
              "\n",
              "    .colab-df-convert:hover {\n",
              "      background-color: #E2EBFA;\n",
              "      box-shadow: 0px 1px 2px rgba(60, 64, 67, 0.3), 0px 1px 3px 1px rgba(60, 64, 67, 0.15);\n",
              "      fill: #174EA6;\n",
              "    }\n",
              "\n",
              "    [theme=dark] .colab-df-convert {\n",
              "      background-color: #3B4455;\n",
              "      fill: #D2E3FC;\n",
              "    }\n",
              "\n",
              "    [theme=dark] .colab-df-convert:hover {\n",
              "      background-color: #434B5C;\n",
              "      box-shadow: 0px 1px 3px 1px rgba(0, 0, 0, 0.15);\n",
              "      filter: drop-shadow(0px 1px 2px rgba(0, 0, 0, 0.3));\n",
              "      fill: #FFFFFF;\n",
              "    }\n",
              "  </style>\n",
              "\n",
              "      <script>\n",
              "        const buttonEl =\n",
              "          document.querySelector('#df-bdee8d8e-8369-4e7b-935e-5c6fa21851d8 button.colab-df-convert');\n",
              "        buttonEl.style.display =\n",
              "          google.colab.kernel.accessAllowed ? 'block' : 'none';\n",
              "\n",
              "        async function convertToInteractive(key) {\n",
              "          const element = document.querySelector('#df-bdee8d8e-8369-4e7b-935e-5c6fa21851d8');\n",
              "          const dataTable =\n",
              "            await google.colab.kernel.invokeFunction('convertToInteractive',\n",
              "                                                     [key], {});\n",
              "          if (!dataTable) return;\n",
              "\n",
              "          const docLinkHtml = 'Like what you see? Visit the ' +\n",
              "            '<a target=\"_blank\" href=https://colab.research.google.com/notebooks/data_table.ipynb>data table notebook</a>'\n",
              "            + ' to learn more about interactive tables.';\n",
              "          element.innerHTML = '';\n",
              "          dataTable['output_type'] = 'display_data';\n",
              "          await google.colab.output.renderOutput(dataTable, element);\n",
              "          const docLink = document.createElement('div');\n",
              "          docLink.innerHTML = docLinkHtml;\n",
              "          element.appendChild(docLink);\n",
              "        }\n",
              "      </script>\n",
              "    </div>\n",
              "  </div>\n",
              "  "
            ],
            "text/plain": [
              "          id  ct  ucsize  ucshape   ma  secs   bn  bc    nn  miti  class\n",
              "0    1000025   5       1      1.1  1.2     2  1.3   3   1.4   1.5    2.1\n",
              "1    1002945   5       4      4.0  5.0     7   10   3   2.0   1.0    2.0\n",
              "2    1015425   3       1      1.0  1.0     2    2   3   1.0   1.0    2.0\n",
              "3    1016277   6       8      8.0  1.0     3    4   3   7.0   1.0    2.0\n",
              "4    1017023   4       1      1.0  3.0     2    1   3   1.0   1.0    2.0\n",
              "..       ...  ..     ...      ...  ...   ...  ...  ..   ...   ...    ...\n",
              "694   776715   3       1      1.0  1.0     3    2   1   1.0   1.0    2.0\n",
              "695   841769   2       1      1.0  1.0     2    1   1   1.0   1.0    2.0\n",
              "696   888820   5      10     10.0  3.0     7    3   8  10.0   2.0    4.0\n",
              "697   897471   4       8      6.0  4.0     3    4  10   6.0   1.0    4.0\n",
              "698   897471   4       8      8.0  5.0     4    5  10   4.0   1.0    4.0\n",
              "\n",
              "[699 rows x 11 columns]"
            ]
          },
          "metadata": {},
          "execution_count": 1
        }
      ]
    },
    {
      "cell_type": "markdown",
      "source": [
        "   Iloc+1 | Attribute                     |   Tag\n",
        "   -----|-------------------------|-------------\n",
        "    1 | Sample code number         |   id number\n",
        "    2 | Clump Thickness            |   ct\n",
        "    3 | Uniformity of Cell Size    |   ucszie\n",
        "    4 | Uniformity of Cell Shape   |   ucshape\n",
        "    5 | Marginal Adhesion          |   ma\n",
        "    6 | Single Epithelial Cell Size|   secs\n",
        "    7 | Bare Nuclei                |   bn\n",
        "    8 | Bland Chromatin            |   bc\n",
        "    9 | Normal Nucleoli            |   nn\n",
        "    10 | Mitoses                   |   miti\n",
        "    11 | Class: malignant->4 benign->2 |   class\n",
        "\n"
      ],
      "metadata": {
        "id": "D7pwVcx9ig8W"
      }
    },
    {
      "cell_type": "markdown",
      "source": [
        "#Data Cleaning"
      ],
      "metadata": {
        "id": "0iIcC6Nkv8O5"
      }
    },
    {
      "cell_type": "code",
      "source": [
        "# replacing bn's columns's value ? -> 0 -> mean of bn\n",
        "df['bn'] = df['bn'].replace('?',0)\n",
        "df['bn'] = df['bn'].astype(float)\n",
        "mean = df['bn'].mean()\n",
        "df['bn'] = df['bn'].replace(0,mean)\n",
        "\n",
        "df['class'] = df['class'].astype(int) # replacing class's columns's type float64 -> int64\n",
        "df['class'] = df['class'].replace(2,0).replace(4,1) # replacing class's columns's value 2 -> 0 & 4 -> 1\n",
        "print(df)"
      ],
      "metadata": {
        "colab": {
          "base_uri": "https://localhost:8080/"
        },
        "id": "E0jZFHILlOcz",
        "outputId": "da51dcf0-5f0e-45fc-c22e-2a3424876342"
      },
      "execution_count": 2,
      "outputs": [
        {
          "output_type": "stream",
          "name": "stdout",
          "text": [
            "          id  ct  ucsize  ucshape   ma  secs    bn  bc    nn  miti  class\n",
            "0    1000025   5       1      1.1  1.2     2   1.3   3   1.4   1.5      0\n",
            "1    1002945   5       4      4.0  5.0     7  10.0   3   2.0   1.0      0\n",
            "2    1015425   3       1      1.0  1.0     2   2.0   3   1.0   1.0      0\n",
            "3    1016277   6       8      8.0  1.0     3   4.0   3   7.0   1.0      0\n",
            "4    1017023   4       1      1.0  3.0     2   1.0   3   1.0   1.0      0\n",
            "..       ...  ..     ...      ...  ...   ...   ...  ..   ...   ...    ...\n",
            "694   776715   3       1      1.0  1.0     3   2.0   1   1.0   1.0      0\n",
            "695   841769   2       1      1.0  1.0     2   1.0   1   1.0   1.0      0\n",
            "696   888820   5      10     10.0  3.0     7   3.0   8  10.0   2.0      1\n",
            "697   897471   4       8      6.0  4.0     3   4.0  10   6.0   1.0      1\n",
            "698   897471   4       8      8.0  5.0     4   5.0  10   4.0   1.0      1\n",
            "\n",
            "[699 rows x 11 columns]\n"
          ]
        }
      ]
    },
    {
      "cell_type": "markdown",
      "source": [
        "#Loading the data as per train and test case ratio 80:20"
      ],
      "metadata": {
        "id": "QAzQ4egzvVvM"
      }
    },
    {
      "cell_type": "code",
      "source": [
        "X = df.iloc[:, 1:10] #independent variable\n",
        "Y = df.iloc[:, 10] #dependent variable\n",
        "\n",
        "from sklearn.model_selection import train_test_split\n",
        "X_train, X_test, Y_train, Y_test = train_test_split(X, Y, test_size = 0.2, random_state = 1) #Separate our data to train and test set -> 80% train, 20% test\n",
        "from sklearn.preprocessing import StandardScaler\n",
        "scaler = StandardScaler()\n",
        "X_train = scaler.fit_transform(X_train)\n",
        "X_test = scaler.transform(X_test)"
      ],
      "metadata": {
        "id": "pQOClP7HknFE"
      },
      "execution_count": 3,
      "outputs": []
    },
    {
      "cell_type": "markdown",
      "source": [
        "#Defining the model definition"
      ],
      "metadata": {
        "id": "1im99Lk1vNeZ"
      }
    },
    {
      "cell_type": "code",
      "source": [
        "from keras.models import Sequential\n",
        "from keras.layers import Dense\n",
        "def getmodel():\n",
        "  classifier = Sequential()\n",
        "  classifier.add(Dense(units = 5, activation = 'relu', input_dim=9))\n",
        "  classifier.add(Dense(units = 3, activation = 'relu'))\n",
        "  classifier.add(Dense(units = 1, activation = 'sigmoid'))\n",
        "  classifier.compile(optimizer='adam', loss='mean_squared_error', metrics=['accuracy'])\n",
        "  return classifier\n",
        "  classifier.fit(X_train, Y_train, batch_size = 10, epochs = 100)"
      ],
      "metadata": {
        "id": "olRSKV3kp3ZI"
      },
      "execution_count": 4,
      "outputs": []
    },
    {
      "cell_type": "markdown",
      "source": [
        "#Getting the best model without overfitting using EarlyStopping"
      ],
      "metadata": {
        "id": "5pcnWO-fvE45"
      }
    },
    {
      "cell_type": "code",
      "source": [
        "from keras.callbacks import ModelCheckpoint,EarlyStopping\n",
        "filepath = \"w.hdf5\" #saving the weight\n",
        "checkpoint = ModelCheckpoint(filepath, monitor='val_accuracy', verbose=1, save_best_only=True, mode='max')\n",
        "es = EarlyStopping(monitor='val_loss', mode='min', verbose=1,patience=2)\n",
        "callbacks_list = [checkpoint,es]\n",
        "modelupd=getmodel()\n",
        "history=modelupd.fit(X_train, Y_train, batch_size = 10, epochs = 100, validation_data=(X_test,Y_test),callbacks=callbacks_list,verbose=1)"
      ],
      "metadata": {
        "colab": {
          "base_uri": "https://localhost:8080/"
        },
        "id": "87VI0Ooaq-vc",
        "outputId": "6f37665d-18c8-4571-f8aa-9ee7f7969013"
      },
      "execution_count": 9,
      "outputs": [
        {
          "output_type": "stream",
          "name": "stdout",
          "text": [
            "Epoch 1/100\n",
            "39/56 [===================>..........] - ETA: 0s - loss: 0.3196 - accuracy: 0.2333 \n",
            "Epoch 00001: val_accuracy improved from -inf to 0.60714, saving model to w.hdf5\n",
            "56/56 [==============================] - 1s 8ms/step - loss: 0.3047 - accuracy: 0.3202 - val_loss: 0.2619 - val_accuracy: 0.6071\n",
            "Epoch 2/100\n",
            "39/56 [===================>..........] - ETA: 0s - loss: 0.2340 - accuracy: 0.6769\n",
            "Epoch 00002: val_accuracy improved from 0.60714 to 0.78571, saving model to w.hdf5\n",
            "56/56 [==============================] - 0s 2ms/step - loss: 0.2202 - accuracy: 0.7281 - val_loss: 0.1941 - val_accuracy: 0.7857\n",
            "Epoch 3/100\n",
            "36/56 [==================>...........] - ETA: 0s - loss: 0.1680 - accuracy: 0.8556\n",
            "Epoch 00003: val_accuracy improved from 0.78571 to 0.91429, saving model to w.hdf5\n",
            "56/56 [==============================] - 0s 2ms/step - loss: 0.1562 - accuracy: 0.8766 - val_loss: 0.1352 - val_accuracy: 0.9143\n",
            "Epoch 4/100\n",
            "34/56 [=================>............] - ETA: 0s - loss: 0.1140 - accuracy: 0.9353\n",
            "Epoch 00004: val_accuracy improved from 0.91429 to 0.93571, saving model to w.hdf5\n",
            "56/56 [==============================] - 0s 3ms/step - loss: 0.1074 - accuracy: 0.9374 - val_loss: 0.0931 - val_accuracy: 0.9357\n",
            "Epoch 5/100\n",
            "35/56 [=================>............] - ETA: 0s - loss: 0.0732 - accuracy: 0.9657\n",
            "Epoch 00005: val_accuracy improved from 0.93571 to 0.95714, saving model to w.hdf5\n",
            "56/56 [==============================] - 0s 2ms/step - loss: 0.0720 - accuracy: 0.9589 - val_loss: 0.0653 - val_accuracy: 0.9571\n",
            "Epoch 6/100\n",
            "32/56 [================>.............] - ETA: 0s - loss: 0.0574 - accuracy: 0.9531\n",
            "Epoch 00006: val_accuracy improved from 0.95714 to 0.96429, saving model to w.hdf5\n",
            "56/56 [==============================] - 0s 3ms/step - loss: 0.0508 - accuracy: 0.9624 - val_loss: 0.0509 - val_accuracy: 0.9643\n",
            "Epoch 7/100\n",
            "56/56 [==============================] - ETA: 0s - loss: 0.0403 - accuracy: 0.9642\n",
            "Epoch 00007: val_accuracy did not improve from 0.96429\n",
            "56/56 [==============================] - 0s 3ms/step - loss: 0.0403 - accuracy: 0.9642 - val_loss: 0.0436 - val_accuracy: 0.9643\n",
            "Epoch 8/100\n",
            "37/56 [==================>...........] - ETA: 0s - loss: 0.0339 - accuracy: 0.9649\n",
            "Epoch 00008: val_accuracy did not improve from 0.96429\n",
            "56/56 [==============================] - 0s 2ms/step - loss: 0.0349 - accuracy: 0.9624 - val_loss: 0.0398 - val_accuracy: 0.9571\n",
            "Epoch 9/100\n",
            "36/56 [==================>...........] - ETA: 0s - loss: 0.0333 - accuracy: 0.9639\n",
            "Epoch 00009: val_accuracy did not improve from 0.96429\n",
            "56/56 [==============================] - 0s 2ms/step - loss: 0.0319 - accuracy: 0.9624 - val_loss: 0.0377 - val_accuracy: 0.9571\n",
            "Epoch 10/100\n",
            "36/56 [==================>...........] - ETA: 0s - loss: 0.0293 - accuracy: 0.9639\n",
            "Epoch 00010: val_accuracy did not improve from 0.96429\n",
            "56/56 [==============================] - 0s 2ms/step - loss: 0.0301 - accuracy: 0.9624 - val_loss: 0.0359 - val_accuracy: 0.9571\n",
            "Epoch 11/100\n",
            "35/56 [=================>............] - ETA: 0s - loss: 0.0238 - accuracy: 0.9714\n",
            "Epoch 00011: val_accuracy did not improve from 0.96429\n",
            "56/56 [==============================] - 0s 2ms/step - loss: 0.0289 - accuracy: 0.9624 - val_loss: 0.0343 - val_accuracy: 0.9571\n",
            "Epoch 12/100\n",
            "35/56 [=================>............] - ETA: 0s - loss: 0.0344 - accuracy: 0.9543\n",
            "Epoch 00012: val_accuracy did not improve from 0.96429\n",
            "56/56 [==============================] - 0s 2ms/step - loss: 0.0281 - accuracy: 0.9624 - val_loss: 0.0342 - val_accuracy: 0.9571\n",
            "Epoch 13/100\n",
            "34/56 [=================>............] - ETA: 0s - loss: 0.0257 - accuracy: 0.9706\n",
            "Epoch 00013: val_accuracy did not improve from 0.96429\n",
            "56/56 [==============================] - 0s 2ms/step - loss: 0.0275 - accuracy: 0.9642 - val_loss: 0.0331 - val_accuracy: 0.9571\n",
            "Epoch 14/100\n",
            "34/56 [=================>............] - ETA: 0s - loss: 0.0261 - accuracy: 0.9676\n",
            "Epoch 00014: val_accuracy did not improve from 0.96429\n",
            "56/56 [==============================] - 0s 2ms/step - loss: 0.0269 - accuracy: 0.9660 - val_loss: 0.0326 - val_accuracy: 0.9571\n",
            "Epoch 15/100\n",
            "32/56 [================>.............] - ETA: 0s - loss: 0.0286 - accuracy: 0.9594\n",
            "Epoch 00015: val_accuracy did not improve from 0.96429\n",
            "56/56 [==============================] - 0s 2ms/step - loss: 0.0265 - accuracy: 0.9660 - val_loss: 0.0322 - val_accuracy: 0.9571\n",
            "Epoch 16/100\n",
            "37/56 [==================>...........] - ETA: 0s - loss: 0.0239 - accuracy: 0.9676\n",
            "Epoch 00016: val_accuracy did not improve from 0.96429\n",
            "56/56 [==============================] - 0s 2ms/step - loss: 0.0263 - accuracy: 0.9660 - val_loss: 0.0317 - val_accuracy: 0.9571\n",
            "Epoch 17/100\n",
            "32/56 [================>.............] - ETA: 0s - loss: 0.0220 - accuracy: 0.9750\n",
            "Epoch 00017: val_accuracy did not improve from 0.96429\n",
            "56/56 [==============================] - 0s 2ms/step - loss: 0.0259 - accuracy: 0.9660 - val_loss: 0.0314 - val_accuracy: 0.9571\n",
            "Epoch 18/100\n",
            "36/56 [==================>...........] - ETA: 0s - loss: 0.0277 - accuracy: 0.9667\n",
            "Epoch 00018: val_accuracy did not improve from 0.96429\n",
            "56/56 [==============================] - 0s 2ms/step - loss: 0.0258 - accuracy: 0.9678 - val_loss: 0.0314 - val_accuracy: 0.9571\n",
            "Epoch 19/100\n",
            "38/56 [===================>..........] - ETA: 0s - loss: 0.0253 - accuracy: 0.9711\n",
            "Epoch 00019: val_accuracy did not improve from 0.96429\n",
            "56/56 [==============================] - 0s 2ms/step - loss: 0.0255 - accuracy: 0.9678 - val_loss: 0.0310 - val_accuracy: 0.9571\n",
            "Epoch 20/100\n",
            "35/56 [=================>............] - ETA: 0s - loss: 0.0195 - accuracy: 0.9771\n",
            "Epoch 00020: val_accuracy did not improve from 0.96429\n",
            "56/56 [==============================] - 0s 2ms/step - loss: 0.0255 - accuracy: 0.9678 - val_loss: 0.0307 - val_accuracy: 0.9571\n",
            "Epoch 21/100\n",
            "34/56 [=================>............] - ETA: 0s - loss: 0.0216 - accuracy: 0.9735\n",
            "Epoch 00021: val_accuracy did not improve from 0.96429\n",
            "56/56 [==============================] - 0s 2ms/step - loss: 0.0253 - accuracy: 0.9678 - val_loss: 0.0306 - val_accuracy: 0.9643\n",
            "Epoch 22/100\n",
            "54/56 [===========================>..] - ETA: 0s - loss: 0.0243 - accuracy: 0.9685\n",
            "Epoch 00022: val_accuracy did not improve from 0.96429\n",
            "56/56 [==============================] - 0s 3ms/step - loss: 0.0250 - accuracy: 0.9678 - val_loss: 0.0303 - val_accuracy: 0.9643\n",
            "Epoch 23/100\n",
            "53/56 [===========================>..] - ETA: 0s - loss: 0.0249 - accuracy: 0.9679\n",
            "Epoch 00023: val_accuracy did not improve from 0.96429\n",
            "56/56 [==============================] - 0s 3ms/step - loss: 0.0249 - accuracy: 0.9678 - val_loss: 0.0301 - val_accuracy: 0.9643\n",
            "Epoch 24/100\n",
            "29/56 [==============>...............] - ETA: 0s - loss: 0.0283 - accuracy: 0.9621\n",
            "Epoch 00024: val_accuracy did not improve from 0.96429\n",
            "56/56 [==============================] - 0s 2ms/step - loss: 0.0248 - accuracy: 0.9678 - val_loss: 0.0300 - val_accuracy: 0.9643\n",
            "Epoch 25/100\n",
            "35/56 [=================>............] - ETA: 0s - loss: 0.0309 - accuracy: 0.9629\n",
            "Epoch 00025: val_accuracy did not improve from 0.96429\n",
            "56/56 [==============================] - 0s 2ms/step - loss: 0.0247 - accuracy: 0.9678 - val_loss: 0.0297 - val_accuracy: 0.9643\n",
            "Epoch 26/100\n",
            "34/56 [=================>............] - ETA: 0s - loss: 0.0222 - accuracy: 0.9735\n",
            "Epoch 00026: val_accuracy did not improve from 0.96429\n",
            "56/56 [==============================] - 0s 2ms/step - loss: 0.0247 - accuracy: 0.9678 - val_loss: 0.0292 - val_accuracy: 0.9643\n",
            "Epoch 27/100\n",
            "33/56 [================>.............] - ETA: 0s - loss: 0.0209 - accuracy: 0.9788\n",
            "Epoch 00027: val_accuracy did not improve from 0.96429\n",
            "56/56 [==============================] - 0s 2ms/step - loss: 0.0246 - accuracy: 0.9678 - val_loss: 0.0287 - val_accuracy: 0.9643\n",
            "Epoch 28/100\n",
            "37/56 [==================>...........] - ETA: 0s - loss: 0.0258 - accuracy: 0.9649\n",
            "Epoch 00028: val_accuracy did not improve from 0.96429\n",
            "56/56 [==============================] - 0s 2ms/step - loss: 0.0245 - accuracy: 0.9678 - val_loss: 0.0292 - val_accuracy: 0.9643\n",
            "Epoch 29/100\n",
            "40/56 [====================>.........] - ETA: 0s - loss: 0.0281 - accuracy: 0.9625\n",
            "Epoch 00029: val_accuracy did not improve from 0.96429\n",
            "56/56 [==============================] - 0s 2ms/step - loss: 0.0244 - accuracy: 0.9678 - val_loss: 0.0287 - val_accuracy: 0.9643\n",
            "Epoch 00029: early stopping\n"
          ]
        }
      ]
    },
    {
      "cell_type": "code",
      "source": [
        "modelupd.summary()"
      ],
      "metadata": {
        "colab": {
          "base_uri": "https://localhost:8080/"
        },
        "id": "F94PlhQXtAEc",
        "outputId": "924a5bd9-f52b-4094-fb22-ca0d23981cb8"
      },
      "execution_count": 11,
      "outputs": [
        {
          "output_type": "stream",
          "name": "stdout",
          "text": [
            "Model: \"sequential_2\"\n",
            "_________________________________________________________________\n",
            " Layer (type)                Output Shape              Param #   \n",
            "=================================================================\n",
            " dense_6 (Dense)             (None, 5)                 50        \n",
            "                                                                 \n",
            " dense_7 (Dense)             (None, 3)                 18        \n",
            "                                                                 \n",
            " dense_8 (Dense)             (None, 1)                 4         \n",
            "                                                                 \n",
            "=================================================================\n",
            "Total params: 72\n",
            "Trainable params: 72\n",
            "Non-trainable params: 0\n",
            "_________________________________________________________________\n"
          ]
        }
      ]
    },
    {
      "cell_type": "markdown",
      "source": [
        "#Model Accuracy Graph of 'modelupd'"
      ],
      "metadata": {
        "id": "nyTpgZQ_u1Us"
      }
    },
    {
      "cell_type": "code",
      "source": [
        "#This show whether this graph is under/over/just right fitting.\n",
        "import matplotlib.pyplot as plt\n",
        "plt.style.use('ggplot')\n",
        "def plot_history(history):\n",
        "    acc = history.history['accuracy']\n",
        "    val_acc = history.history['val_accuracy']\n",
        "    loss = history.history['loss']\n",
        "    val_loss = history.history['val_loss']\n",
        "    x = range(1, len(acc) + 1)\n",
        "    plt.figure(figsize=(12, 5))\n",
        "    plt.subplot(1, 2, 2)\n",
        "    plt.plot(x, loss, 'b', label='Training loss')\n",
        "    plt.plot(x, val_loss, 'r', label='Validation loss')\n",
        "    plt.title('Training and validation loss')\n",
        "    plt.legend()\n",
        "\n",
        "plot_history(history) #Result show our graph is just right fitting."
      ],
      "metadata": {
        "colab": {
          "base_uri": "https://localhost:8080/",
          "height": 337
        },
        "id": "bA955z_mtC2Y",
        "outputId": "fbc2cf43-893d-42f2-c676-22d109b1bf91"
      },
      "execution_count": 12,
      "outputs": [
        {
          "output_type": "display_data",
          "data": {
            "image/png": "[encoded data removed]",
            "text/plain": [
              "<Figure size 864x360 with 1 Axes>"
            ]
          },
          "metadata": {}
        }
      ]
    },
    {
      "cell_type": "markdown",
      "source": [
        "#Breast_Cancer_Detection Function Definition"
      ],
      "metadata": {
        "id": "IPmkYxq_7xVd"
      }
    },
    {
      "cell_type": "code",
      "source": [
        "def breastcancerdetect(a): \n",
        "  arrvalue=modelupd.predict(a)\n",
        "  e=(1 if arrvalue.item((0, 0))>=0.5 else 0)\n",
        "  print(\"Type of Breast Cancer in terms of level:\")\n",
        "  print('benign') if e==0 else print('malignant')\n",
        "  print(\"\\nNote:-\\nmalignant -> dangerous spreading cancer\\nbenign -> gentle spreading cancer\")"
      ],
      "metadata": {
        "id": "g-d19Y9CyzM5"
      },
      "execution_count": 13,
      "outputs": []
    },
    {
      "cell_type": "code",
      "source": [
        "breastcancerdetect([[-0.16118879, -0.70346824, -0.75031388, -0.64276997, -0.55612245,-0.72173222, -0.59660276, -0.62025621, -0.31540386]])"
      ],
      "metadata": {
        "colab": {
          "base_uri": "https://localhost:8080/"
        },
        "id": "OgVEZr8w2jPc",
        "outputId": "5322223a-fe8f-4db1-8395-bc2bce3e6f35"
      },
      "execution_count": 14,
      "outputs": [
        {
          "output_type": "stream",
          "name": "stdout",
          "text": [
            "Type of Breast Cancer in terms of level:\n",
            "benign\n",
            "\n",
            "Note:-\n",
            "malignant -> dangerous spreading cancer\n",
            "benign -> gentle spreading cancer\n"
          ]
        }
      ]
    }
  ]
}