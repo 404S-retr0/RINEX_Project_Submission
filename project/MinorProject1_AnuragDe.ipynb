{
  "cells": [
    {
      "cell_type": "markdown",
      "metadata": {
        "id": "view-in-github",
        "colab_type": "text"
      },
      "source": [
        "<a href=\"https://colab.research.google.com/github/404S-retr0/RINEX_Project_Submission/blob/main/project/MinorProject1_AnuragDe.ipynb\" target=\"_parent\"><img src=\"https://colab.research.google.com/assets/colab-badge.svg\" alt=\"Open In Colab\"/></a>"
      ]
    },
    {
      "cell_type": "markdown",
      "metadata": {
        "id": "v5bpEjenvh8R"
      },
      "source": [
        "# Capstone Project\n",
        "To tie most of what we have learned together in this tutorial, let's analyse the *world-happiness* dataset.\n",
        "\n",
        "Below are the tasks that need to be done."
      ]
    },
    {
      "cell_type": "code",
      "execution_count": 1,
      "metadata": {
        "id": "st6qO2a0vh8N"
      },
      "outputs": [],
      "source": [
        "import pandas as pd\n",
        "import numpy as np\n",
        "import matplotlib.pyplot as plt\n",
        "%matplotlib inline"
      ]
    },
    {
      "cell_type": "markdown",
      "metadata": {
        "id": "7doMVTkgvh8S"
      },
      "source": [
        "## Loading data\n",
        "load the data in `data/world-happiness/{year}.csv` for each year \n",
        "\n",
        "to each a column 'data_year' to keep track of the source year"
      ]
    },
    {
      "cell_type": "code",
      "execution_count": 2,
      "metadata": {
        "colab": {
          "base_uri": "https://localhost:8080/"
        },
        "id": "1ahTVaOyvh8T",
        "outputId": "f2af9663-db64-4137-9291-7a1cb13d0c3a"
      },
      "outputs": [
        {
          "output_type": "stream",
          "name": "stdout",
          "text": [
            "--2022-01-13 22:03:30--  https://raw.githubusercontent.com/404S-retr0/RINEX_Project_Submission/main/data/2015.csv\n",
            "Resolving raw.githubusercontent.com (raw.githubusercontent.com)... 185.199.108.133, 185.199.109.133, 185.199.110.133, ...\n",
            "Connecting to raw.githubusercontent.com (raw.githubusercontent.com)|185.199.108.133|:443... connected.\n",
            "HTTP request sent, awaiting response... 200 OK\n",
            "Length: 16557 (16K) [text/plain]\n",
            "Saving to: ‘/data/world-happiness/2015.csv’\n",
            "\n",
            "\r          /data/wor   0%[                    ]       0  --.-KB/s               \r/data/world-happine 100%[===================>]  16.17K  --.-KB/s    in 0s      \n",
            "\n",
            "2022-01-13 22:03:30 (105 MB/s) - ‘/data/world-happiness/2015.csv’ saved [16557/16557]\n",
            "\n",
            "--2022-01-13 22:03:30--  https://raw.githubusercontent.com/404S-retr0/RINEX_Project_Submission/main/data/2016.csv\n",
            "Resolving raw.githubusercontent.com (raw.githubusercontent.com)... 185.199.111.133, 185.199.108.133, 185.199.110.133, ...\n",
            "Connecting to raw.githubusercontent.com (raw.githubusercontent.com)|185.199.111.133|:443... connected.\n",
            "HTTP request sent, awaiting response... 200 OK\n",
            "Length: 17132 (17K) [text/plain]\n",
            "Saving to: ‘/data/world-happiness/2016.csv’\n",
            "\n",
            "/data/world-happine 100%[===================>]  16.73K  --.-KB/s    in 0s      \n",
            "\n",
            "2022-01-13 22:03:30 (87.5 MB/s) - ‘/data/world-happiness/2016.csv’ saved [17132/17132]\n",
            "\n",
            "--2022-01-13 22:03:30--  https://raw.githubusercontent.com/404S-retr0/RINEX_Project_Submission/main/data/2017.csv\n",
            "Resolving raw.githubusercontent.com (raw.githubusercontent.com)... 185.199.108.133, 185.199.109.133, 185.199.110.133, ...\n",
            "Connecting to raw.githubusercontent.com (raw.githubusercontent.com)|185.199.108.133|:443... connected.\n",
            "HTTP request sent, awaiting response... 200 OK\n",
            "Length: 29380 (29K) [text/plain]\n",
            "Saving to: ‘/data/world-happiness/2017.csv’\n",
            "\n",
            "/data/world-happine 100%[===================>]  28.69K  --.-KB/s    in 0s      \n",
            "\n",
            "2022-01-13 22:03:30 (109 MB/s) - ‘/data/world-happiness/2017.csv’ saved [29380/29380]\n",
            "\n"
          ]
        }
      ],
      "source": [
        "!wget --no-check-certificate \\https://raw.githubusercontent.com/404S-retr0/RINEX_Project_Submission/main/data/2015.csv \\-O /data/world-happiness/2015.csv\n",
        "!wget --no-check-certificate \\https://raw.githubusercontent.com/404S-retr0/RINEX_Project_Submission/main/data/2016.csv \\-O /data/world-happiness/2016.csv\n",
        "!wget --no-check-certificate \\https://raw.githubusercontent.com/404S-retr0/RINEX_Project_Submission/main/data/2017.csv \\-O /data/world-happiness/2017.csv\n",
        "# Importing the 3 datasets\n",
        "data_2015 = pd.read_csv(\"/data/world-happiness/2015.csv\")\n",
        "data_2016 = pd.read_csv(\"/data/world-happiness/2016.csv\")\n",
        "data_2017 = pd.read_csv(\"/data/world-happiness/2017.csv\")"
      ]
    },
    {
      "cell_type": "markdown",
      "metadata": {
        "id": "YO9OdleZvh8U"
      },
      "source": [
        "## Correcting column names\n",
        "correct the column names in the 2017 data so to be consistent with the previous years"
      ]
    },
    {
      "cell_type": "code",
      "execution_count": 3,
      "metadata": {
        "id": "MA-Yo2FVvh8U"
      },
      "outputs": [],
      "source": [
        "data_2017.rename(columns={\"Happiness.Rank\": \"Happiness Rank\",\"Happiness.Score\":\"Happiness Score\",\n",
        "                          \"Economy..GDP.per.Capita.\":\"Economy (GDP per Capita)\",\"Health..Life.Expectancy.\":\"Health (Life Expectancy)\",\n",
        "                          \"Trust..Government.Corruption.\":\"Trust (Government Corruption)\",\"Dystopia.Residual\":\"Dystopia Residual\"}, inplace=True)"
      ]
    },
    {
      "cell_type": "markdown",
      "metadata": {
        "id": "JCU4n8ldvh8V"
      },
      "source": [
        "# Standardize Country names\n",
        "correct the names in all DataFrames to common ones.\n",
        "\n",
        "**HINT**: you can use the following correction dictionary or create your own\n",
        "```python\n",
        "correcting_country_names = {\n",
        "    'Taiwan': 'Taiwan Province of China',\n",
        "    'Hong Kong': 'Hong Kong S.A.R., China',\n",
        "}\n",
        "```"
      ]
    },
    {
      "cell_type": "code",
      "source": [
        "print(\"changing the name of country\")\n",
        "print(data_2017.loc[32,'Country'])\n",
        "print(data_2017.loc[70,'Country'])\n",
        "print(\"to Taiwan and Hong Kong\")\n",
        "data_2017.loc[32,'Country']='Taiwan'\n",
        "data_2017.loc[70,'Country']='Hong Kong'\n",
        "print(data_2017.loc[32,'Country'])\n",
        "print(data_2017.loc[70,'Country'])"
      ],
      "metadata": {
        "colab": {
          "base_uri": "https://localhost:8080/"
        },
        "id": "w9CX9FzN10aH",
        "outputId": "223d5dd1-7ed1-425e-bd08-0676fb13e158"
      },
      "execution_count": 4,
      "outputs": [
        {
          "output_type": "stream",
          "name": "stdout",
          "text": [
            "changing the name of country\n",
            "Taiwan Province of China\n",
            "Hong Kong S.A.R., China\n",
            "to Taiwan and Hong Kong\n",
            "Taiwan\n",
            "Hong Kong\n"
          ]
        }
      ]
    },
    {
      "cell_type": "code",
      "source": [
        "data_2015 = data_2015.set_index(\"Country\")\n",
        "data_2016 = data_2016.set_index(\"Country\")\n",
        "data_2017 = data_2017.set_index(\"Country\")"
      ],
      "metadata": {
        "id": "JgZlnI4EBWtL"
      },
      "execution_count": 5,
      "outputs": []
    },
    {
      "cell_type": "markdown",
      "metadata": {
        "id": "9IXDYNC4vh8W"
      },
      "source": [
        "## Remove Inconsistent Countries \n",
        "remove the rows of the countries that are not in all datasets"
      ]
    },
    {
      "cell_type": "code",
      "execution_count": 6,
      "metadata": {
        "id": "f6Np6sovvh8W"
      },
      "outputs": [],
      "source": [
        "data_2015 = data_2015.drop(\"Central African Republic\")\n",
        "data_2015 = data_2015.drop(\"Comoros\")\n",
        "data_2015 = data_2015.drop(\"Djibouti\")\n",
        "data_2015 = data_2015.drop(\"Laos\")\n",
        "data_2015 = data_2015.drop(\"Lesotho\")\n",
        "data_2015 = data_2015.drop(\"Mozambique\")\n",
        "data_2015 = data_2015.drop(\"Oman\")\n",
        "data_2015 = data_2015.drop(\"Somaliland region\")\n",
        "data_2015 = data_2015.drop(\"Suriname\")\n",
        "data_2015 = data_2015.drop(\"Swaziland\")\n",
        "data_2016 = data_2016.drop(\"Belize\")\n",
        "data_2016 = data_2016.drop(\"Comoros\")\n",
        "data_2016 = data_2016.drop(\"Laos\")\n",
        "data_2016 = data_2016.drop(\"Namibia\")\n",
        "data_2016 = data_2016.drop(\"Puerto Rico\")\n",
        "data_2016 = data_2016.drop(\"Somalia\")\n",
        "data_2016 = data_2016.drop(\"Somaliland Region\")\n",
        "data_2016 = data_2016.drop(\"South Sudan\")\n",
        "data_2016 = data_2016.drop(\"Suriname\")\n",
        "data_2017 = data_2017.drop(\"Belize\")\n",
        "data_2017 = data_2017.drop(\"Central African Republic\")\n",
        "data_2017 = data_2017.drop(\"Lesotho\")\n",
        "data_2017 = data_2017.drop(\"Mozambique\")\n",
        "data_2017 = data_2017.drop(\"Namibia\")\n",
        "data_2017 = data_2017.drop(\"Somalia\")\n",
        "data_2017 = data_2017.drop(\"South Sudan\")"
      ]
    },
    {
      "cell_type": "markdown",
      "metadata": {
        "id": "qmQIeoiYvh8X"
      },
      "source": [
        "## Remove Inconsistent Columns \n",
        "remove the columns that are not in all datasets"
      ]
    },
    {
      "cell_type": "code",
      "execution_count": 7,
      "metadata": {
        "id": "Waxa9USwvh8Y"
      },
      "outputs": [],
      "source": [
        "data_2015 = data_2015.drop(columns=\"Standard Error\")\n",
        "data_2016 = data_2016.drop(columns=[\"Lower Confidence Interval\",\"Upper Confidence Interval\"])\n",
        "data_2017 = data_2017.drop(columns=[\"Whisker.high\",\"Whisker.low\"])"
      ]
    },
    {
      "cell_type": "markdown",
      "metadata": {
        "id": "XuZmpk7dvh8X"
      },
      "source": [
        "## Add Region to 2017 data\n",
        "add Region column to the 2017 data by using the same mapping of the previous years "
      ]
    },
    {
      "cell_type": "code",
      "execution_count": 8,
      "metadata": {
        "id": "bumhYjLtvh8X"
      },
      "outputs": [],
      "source": [
        "Region = data_2016['Region']\n",
        "data_2017.insert(loc=0, column='Region', value=Region)"
      ]
    },
    {
      "cell_type": "markdown",
      "source": [
        "#Add year number to each year dataframe"
      ],
      "metadata": {
        "id": "5ppTfBE3JUxm"
      }
    },
    {
      "cell_type": "code",
      "source": [
        "data_2015['Year'] = 2015\n",
        "data_2016['Year'] = 2016\n",
        "data_2017['Year'] = 2017"
      ],
      "metadata": {
        "id": "2QdmNHb7JSbw"
      },
      "execution_count": 9,
      "outputs": []
    },
    {
      "cell_type": "markdown",
      "metadata": {
        "id": "yR6Wlhr1vh8Y"
      },
      "source": [
        "## Combine All DataFrames\n",
        "now that all three dataframes have been standardized, we can combine them (vertically)"
      ]
    },
    {
      "cell_type": "code",
      "execution_count": 10,
      "metadata": {
        "id": "E-yAUfftvh8Y"
      },
      "outputs": [],
      "source": [
        "data = pd.concat([data_2015, data_2016, data_2017], axis=0)"
      ]
    },
    {
      "cell_type": "code",
      "source": [
        "data"
      ],
      "metadata": {
        "colab": {
          "base_uri": "https://localhost:8080/",
          "height": 865
        },
        "id": "VjpDPFaCJB6V",
        "outputId": "d95f218b-3b2e-45a6-c0a9-795f86991c54"
      },
      "execution_count": 11,
      "outputs": [
        {
          "output_type": "execute_result",
          "data": {
            "text/html": [
              "\n",
              "  <div id=\"df-435abd9b-431b-4948-bfa9-687cceb727da\">\n",
              "    <div class=\"colab-df-container\">\n",
              "      <div>\n",
              "<style scoped>\n",
              "    .dataframe tbody tr th:only-of-type {\n",
              "        vertical-align: middle;\n",
              "    }\n",
              "\n",
              "    .dataframe tbody tr th {\n",
              "        vertical-align: top;\n",
              "    }\n",
              "\n",
              "    .dataframe thead th {\n",
              "        text-align: right;\n",
              "    }\n",
              "</style>\n",
              "<table border=\"1\" class=\"dataframe\">\n",
              "  <thead>\n",
              "    <tr style=\"text-align: right;\">\n",
              "      <th></th>\n",
              "      <th>Region</th>\n",
              "      <th>Happiness Rank</th>\n",
              "      <th>Happiness Score</th>\n",
              "      <th>Economy (GDP per Capita)</th>\n",
              "      <th>Family</th>\n",
              "      <th>Health (Life Expectancy)</th>\n",
              "      <th>Freedom</th>\n",
              "      <th>Trust (Government Corruption)</th>\n",
              "      <th>Generosity</th>\n",
              "      <th>Dystopia Residual</th>\n",
              "      <th>Year</th>\n",
              "    </tr>\n",
              "    <tr>\n",
              "      <th>Country</th>\n",
              "      <th></th>\n",
              "      <th></th>\n",
              "      <th></th>\n",
              "      <th></th>\n",
              "      <th></th>\n",
              "      <th></th>\n",
              "      <th></th>\n",
              "      <th></th>\n",
              "      <th></th>\n",
              "      <th></th>\n",
              "      <th></th>\n",
              "    </tr>\n",
              "  </thead>\n",
              "  <tbody>\n",
              "    <tr>\n",
              "      <th>Switzerland</th>\n",
              "      <td>Western Europe</td>\n",
              "      <td>1</td>\n",
              "      <td>7.587</td>\n",
              "      <td>1.396510</td>\n",
              "      <td>1.349510</td>\n",
              "      <td>0.941430</td>\n",
              "      <td>0.665570</td>\n",
              "      <td>0.419780</td>\n",
              "      <td>0.296780</td>\n",
              "      <td>2.517380</td>\n",
              "      <td>2015</td>\n",
              "    </tr>\n",
              "    <tr>\n",
              "      <th>Iceland</th>\n",
              "      <td>Western Europe</td>\n",
              "      <td>2</td>\n",
              "      <td>7.561</td>\n",
              "      <td>1.302320</td>\n",
              "      <td>1.402230</td>\n",
              "      <td>0.947840</td>\n",
              "      <td>0.628770</td>\n",
              "      <td>0.141450</td>\n",
              "      <td>0.436300</td>\n",
              "      <td>2.702010</td>\n",
              "      <td>2015</td>\n",
              "    </tr>\n",
              "    <tr>\n",
              "      <th>Denmark</th>\n",
              "      <td>Western Europe</td>\n",
              "      <td>3</td>\n",
              "      <td>7.527</td>\n",
              "      <td>1.325480</td>\n",
              "      <td>1.360580</td>\n",
              "      <td>0.874640</td>\n",
              "      <td>0.649380</td>\n",
              "      <td>0.483570</td>\n",
              "      <td>0.341390</td>\n",
              "      <td>2.492040</td>\n",
              "      <td>2015</td>\n",
              "    </tr>\n",
              "    <tr>\n",
              "      <th>Norway</th>\n",
              "      <td>Western Europe</td>\n",
              "      <td>4</td>\n",
              "      <td>7.522</td>\n",
              "      <td>1.459000</td>\n",
              "      <td>1.330950</td>\n",
              "      <td>0.885210</td>\n",
              "      <td>0.669730</td>\n",
              "      <td>0.365030</td>\n",
              "      <td>0.346990</td>\n",
              "      <td>2.465310</td>\n",
              "      <td>2015</td>\n",
              "    </tr>\n",
              "    <tr>\n",
              "      <th>Canada</th>\n",
              "      <td>North America</td>\n",
              "      <td>5</td>\n",
              "      <td>7.427</td>\n",
              "      <td>1.326290</td>\n",
              "      <td>1.322610</td>\n",
              "      <td>0.905630</td>\n",
              "      <td>0.632970</td>\n",
              "      <td>0.329570</td>\n",
              "      <td>0.458110</td>\n",
              "      <td>2.451760</td>\n",
              "      <td>2015</td>\n",
              "    </tr>\n",
              "    <tr>\n",
              "      <th>...</th>\n",
              "      <td>...</td>\n",
              "      <td>...</td>\n",
              "      <td>...</td>\n",
              "      <td>...</td>\n",
              "      <td>...</td>\n",
              "      <td>...</td>\n",
              "      <td>...</td>\n",
              "      <td>...</td>\n",
              "      <td>...</td>\n",
              "      <td>...</td>\n",
              "      <td>...</td>\n",
              "    </tr>\n",
              "    <tr>\n",
              "      <th>Togo</th>\n",
              "      <td>Sub-Saharan Africa</td>\n",
              "      <td>150</td>\n",
              "      <td>3.495</td>\n",
              "      <td>0.305445</td>\n",
              "      <td>0.431883</td>\n",
              "      <td>0.247106</td>\n",
              "      <td>0.380426</td>\n",
              "      <td>0.095665</td>\n",
              "      <td>0.196896</td>\n",
              "      <td>1.837229</td>\n",
              "      <td>2017</td>\n",
              "    </tr>\n",
              "    <tr>\n",
              "      <th>Rwanda</th>\n",
              "      <td>Sub-Saharan Africa</td>\n",
              "      <td>151</td>\n",
              "      <td>3.471</td>\n",
              "      <td>0.368746</td>\n",
              "      <td>0.945707</td>\n",
              "      <td>0.326425</td>\n",
              "      <td>0.581844</td>\n",
              "      <td>0.455220</td>\n",
              "      <td>0.252756</td>\n",
              "      <td>0.540061</td>\n",
              "      <td>2017</td>\n",
              "    </tr>\n",
              "    <tr>\n",
              "      <th>Syria</th>\n",
              "      <td>Middle East and Northern Africa</td>\n",
              "      <td>152</td>\n",
              "      <td>3.462</td>\n",
              "      <td>0.777153</td>\n",
              "      <td>0.396103</td>\n",
              "      <td>0.500533</td>\n",
              "      <td>0.081539</td>\n",
              "      <td>0.151347</td>\n",
              "      <td>0.493664</td>\n",
              "      <td>1.061574</td>\n",
              "      <td>2017</td>\n",
              "    </tr>\n",
              "    <tr>\n",
              "      <th>Tanzania</th>\n",
              "      <td>Sub-Saharan Africa</td>\n",
              "      <td>153</td>\n",
              "      <td>3.349</td>\n",
              "      <td>0.511136</td>\n",
              "      <td>1.041990</td>\n",
              "      <td>0.364509</td>\n",
              "      <td>0.390018</td>\n",
              "      <td>0.066035</td>\n",
              "      <td>0.354256</td>\n",
              "      <td>0.621130</td>\n",
              "      <td>2017</td>\n",
              "    </tr>\n",
              "    <tr>\n",
              "      <th>Burundi</th>\n",
              "      <td>Sub-Saharan Africa</td>\n",
              "      <td>154</td>\n",
              "      <td>2.905</td>\n",
              "      <td>0.091623</td>\n",
              "      <td>0.629794</td>\n",
              "      <td>0.151611</td>\n",
              "      <td>0.059901</td>\n",
              "      <td>0.084148</td>\n",
              "      <td>0.204435</td>\n",
              "      <td>1.683024</td>\n",
              "      <td>2017</td>\n",
              "    </tr>\n",
              "  </tbody>\n",
              "</table>\n",
              "<p>444 rows × 11 columns</p>\n",
              "</div>\n",
              "      <button class=\"colab-df-convert\" onclick=\"convertToInteractive('df-435abd9b-431b-4948-bfa9-687cceb727da')\"\n",
              "              title=\"Convert this dataframe to an interactive table.\"\n",
              "              style=\"display:none;\">\n",
              "        \n",
              "  <svg xmlns=\"http://www.w3.org/2000/svg\" height=\"24px\"viewBox=\"0 0 24 24\"\n",
              "       width=\"24px\">\n",
              "    <path d=\"M0 0h24v24H0V0z\" fill=\"none\"/>\n",
              "    <path d=\"M18.56 5.44l.94 2.06.94-2.06 2.06-.94-2.06-.94-.94-2.06-.94 2.06-2.06.94zm-11 1L8.5 8.5l.94-2.06 2.06-.94-2.06-.94L8.5 2.5l-.94 2.06-2.06.94zm10 10l.94 2.06.94-2.06 2.06-.94-2.06-.94-.94-2.06-.94 2.06-2.06.94z\"/><path d=\"M17.41 7.96l-1.37-1.37c-.4-.4-.92-.59-1.43-.59-.52 0-1.04.2-1.43.59L10.3 9.45l-7.72 7.72c-.78.78-.78 2.05 0 2.83L4 21.41c.39.39.9.59 1.41.59.51 0 1.02-.2 1.41-.59l7.78-7.78 2.81-2.81c.8-.78.8-2.07 0-2.86zM5.41 20L4 18.59l7.72-7.72 1.47 1.35L5.41 20z\"/>\n",
              "  </svg>\n",
              "      </button>\n",
              "      \n",
              "  <style>\n",
              "    .colab-df-container {\n",
              "      display:flex;\n",
              "      flex-wrap:wrap;\n",
              "      gap: 12px;\n",
              "    }\n",
              "\n",
              "    .colab-df-convert {\n",
              "      background-color: #E8F0FE;\n",
              "      border: none;\n",
              "      border-radius: 50%;\n",
              "      cursor: pointer;\n",
              "      display: none;\n",
              "      fill: #1967D2;\n",
              "      height: 32px;\n",
              "      padding: 0 0 0 0;\n",
              "      width: 32px;\n",
              "    }\n",
              "\n",
              "    .colab-df-convert:hover {\n",
              "      background-color: #E2EBFA;\n",
              "      box-shadow: 0px 1px 2px rgba(60, 64, 67, 0.3), 0px 1px 3px 1px rgba(60, 64, 67, 0.15);\n",
              "      fill: #174EA6;\n",
              "    }\n",
              "\n",
              "    [theme=dark] .colab-df-convert {\n",
              "      background-color: #3B4455;\n",
              "      fill: #D2E3FC;\n",
              "    }\n",
              "\n",
              "    [theme=dark] .colab-df-convert:hover {\n",
              "      background-color: #434B5C;\n",
              "      box-shadow: 0px 1px 3px 1px rgba(0, 0, 0, 0.15);\n",
              "      filter: drop-shadow(0px 1px 2px rgba(0, 0, 0, 0.3));\n",
              "      fill: #FFFFFF;\n",
              "    }\n",
              "  </style>\n",
              "\n",
              "      <script>\n",
              "        const buttonEl =\n",
              "          document.querySelector('#df-435abd9b-431b-4948-bfa9-687cceb727da button.colab-df-convert');\n",
              "        buttonEl.style.display =\n",
              "          google.colab.kernel.accessAllowed ? 'block' : 'none';\n",
              "\n",
              "        async function convertToInteractive(key) {\n",
              "          const element = document.querySelector('#df-435abd9b-431b-4948-bfa9-687cceb727da');\n",
              "          const dataTable =\n",
              "            await google.colab.kernel.invokeFunction('convertToInteractive',\n",
              "                                                     [key], {});\n",
              "          if (!dataTable) return;\n",
              "\n",
              "          const docLinkHtml = 'Like what you see? Visit the ' +\n",
              "            '<a target=\"_blank\" href=https://colab.research.google.com/notebooks/data_table.ipynb>data table notebook</a>'\n",
              "            + ' to learn more about interactive tables.';\n",
              "          element.innerHTML = '';\n",
              "          dataTable['output_type'] = 'display_data';\n",
              "          await google.colab.output.renderOutput(dataTable, element);\n",
              "          const docLink = document.createElement('div');\n",
              "          docLink.innerHTML = docLinkHtml;\n",
              "          element.appendChild(docLink);\n",
              "        }\n",
              "      </script>\n",
              "    </div>\n",
              "  </div>\n",
              "  "
            ],
            "text/plain": [
              "                                      Region  ...  Year\n",
              "Country                                       ...      \n",
              "Switzerland                   Western Europe  ...  2015\n",
              "Iceland                       Western Europe  ...  2015\n",
              "Denmark                       Western Europe  ...  2015\n",
              "Norway                        Western Europe  ...  2015\n",
              "Canada                         North America  ...  2015\n",
              "...                                      ...  ...   ...\n",
              "Togo                      Sub-Saharan Africa  ...  2017\n",
              "Rwanda                    Sub-Saharan Africa  ...  2017\n",
              "Syria        Middle East and Northern Africa  ...  2017\n",
              "Tanzania                  Sub-Saharan Africa  ...  2017\n",
              "Burundi                   Sub-Saharan Africa  ...  2017\n",
              "\n",
              "[444 rows x 11 columns]"
            ]
          },
          "metadata": {},
          "execution_count": 11
        }
      ]
    },
    {
      "cell_type": "markdown",
      "metadata": {
        "id": "AjfdFTXKvh8Z"
      },
      "source": [
        "## Analysing the data\n",
        "Use the cleaned dataset to answer the following questions/tasks.\n",
        "\n",
        "Feel free to explore more and answer your own questions."
      ]
    },
    {
      "cell_type": "markdown",
      "metadata": {
        "id": "EplUuzSjvh8Z"
      },
      "source": [
        "### Which country is consistely more Generous? which least Generous?"
      ]
    },
    {
      "cell_type": "code",
      "execution_count": 12,
      "metadata": {
        "colab": {
          "base_uri": "https://localhost:8080/"
        },
        "id": "qVu6r5YBvh8Z",
        "outputId": "62d3a8fa-ff97-4798-9ff5-c23ad8c68f57"
      },
      "outputs": [
        {
          "output_type": "stream",
          "name": "stdout",
          "text": [
            "Myanmar is more generous country\n",
            "Greece is less generous country\n"
          ]
        }
      ],
      "source": [
        "column=data['Generosity']\n",
        "max_index=column.idxmax()\n",
        "print(max_index,'is more generous country')\n",
        "min_index=column.idxmin()\n",
        "print(min_index,'is less generous country')"
      ]
    },
    {
      "cell_type": "markdown",
      "metadata": {
        "id": "5PKwDvHpvh8a"
      },
      "source": [
        "### Which country has seen the biggest drop in Happiness Score within 1 year? which the biggest increase?"
      ]
    },
    {
      "cell_type": "code",
      "execution_count": 13,
      "metadata": {
        "colab": {
          "base_uri": "https://localhost:8080/"
        },
        "id": "5VlXP1Ruvh8a",
        "outputId": "7f751055-e7d1-44be-b07b-ceb1b2c1b152"
      },
      "outputs": [
        {
          "output_type": "stream",
          "name": "stdout",
          "text": [
            "Venezuela is biggest drop in Happiness Score\n",
            "Burundi is smallest drop in Happiness Score\n"
          ]
        }
      ],
      "source": [
        "datastatcountry=data.groupby(by='Country')['Happiness Score'].describe()\n",
        "datastatcountry['max-min(Happiness Score)']=datastatcountry['max']-datastatcountry['min']\n",
        "column=datastatcountry['max-min(Happiness Score)']\n",
        "max_index=column.idxmax()\n",
        "print(max_index,'is biggest drop in Happiness Score')\n",
        "min_index=column.idxmin()\n",
        "print(min_index,'is smallest drop in Happiness Score')"
      ]
    },
    {
      "cell_type": "markdown",
      "metadata": {
        "id": "9RX6_igPvh8a"
      },
      "source": [
        "### Which Region, on average, has seen the biggest drop in Happiness Score within 1 year? which the biggest increase?"
      ]
    },
    {
      "cell_type": "code",
      "execution_count": 14,
      "metadata": {
        "colab": {
          "base_uri": "https://localhost:8080/"
        },
        "id": "3NrbDs-Dvh8a",
        "outputId": "ec145409-2b46-4d2c-b3b3-54511bb6c5b5"
      },
      "outputs": [
        {
          "output_type": "stream",
          "name": "stdout",
          "text": [
            "Middle East and Northern Africa is biggest drop in Happiness Score\n",
            "Australia and New Zealand is smallest drop in Happiness Score\n",
            "\n",
            "\n",
            "Australia and New Zealand is biggest average in Happiness Score\n",
            "Sub-Saharan Africa is smallest average in Happiness Score\n"
          ]
        }
      ],
      "source": [
        "datastatregion=data.groupby(by='Region')['Happiness Score'].describe()\n",
        "datastatregion['max-min(Happiness Score)']=datastatregion['max']-datastatregion['min']\n",
        "column1=datastatregion['max-min(Happiness Score)']\n",
        "max_index=column1.idxmax()\n",
        "print(max_index,'is biggest drop in Happiness Score')\n",
        "min_index=column1.idxmin()\n",
        "print(min_index,'is smallest drop in Happiness Score')\n",
        "print('\\n')\n",
        "column2=datastatregion['mean']\n",
        "max_index=column2.idxmax()\n",
        "print(max_index,'is biggest average in Happiness Score')\n",
        "min_index=column2.idxmin()\n",
        "print(min_index,'is smallest average in Happiness Score')"
      ]
    },
    {
      "cell_type": "markdown",
      "metadata": {
        "id": "YCgVu_Xuvh8a"
      },
      "source": [
        "### Which variables are most/least correlated with *Happiness Score*? make a scatterplot of them against *Happiness Score*.\n",
        "NOTE: remove *Happiness Rank* "
      ]
    },
    {
      "cell_type": "code",
      "source": [
        "listcor =[data['Dystopia Residual'].corr(data['Happiness Score']),\n",
        "          data['Generosity'].corr(data['Happiness Score']),\n",
        "          data['Trust (Government Corruption)'].corr(data['Happiness Score']),\n",
        "          data['Freedom'].corr(data['Happiness Score']),\n",
        "          data['Health (Life Expectancy)'].corr(data['Happiness Score']),\n",
        "          data['Family'].corr(data['Happiness Score']),\n",
        "          data['Economy (GDP per Capita)'].corr(data['Happiness Score']),\n",
        "          ]\n",
        "print(max(listcor),' => Economy (GDP per Capita) most correlated with Happiness Score (strong +ve correlation)')\n",
        "print(min(listcor),' => Generosity least correlated with Happiness Score (Weak +ve correlation)')"
      ],
      "metadata": {
        "colab": {
          "base_uri": "https://localhost:8080/"
        },
        "id": "DxkfwYNMUmhj",
        "outputId": "45db9187-64ba-4c33-d34c-36e707159fae"
      },
      "execution_count": 15,
      "outputs": [
        {
          "output_type": "stream",
          "name": "stdout",
          "text": [
            "0.7924327637403543  => Economy (GDP per Capita) most correlated with Happiness Score (strong +ve correlation)\n",
            "0.1736856909990466  => Generosity least correlated with Happiness Score (Weak +ve correlation)\n"
          ]
        }
      ]
    },
    {
      "cell_type": "code",
      "execution_count": 16,
      "metadata": {
        "colab": {
          "base_uri": "https://localhost:8080/",
          "height": 297
        },
        "id": "Mp8PbLLevh8b",
        "outputId": "16c0a6cd-0ecc-46d8-f577-6bca127eee04"
      },
      "outputs": [
        {
          "output_type": "execute_result",
          "data": {
            "text/plain": [
              "<matplotlib.axes._subplots.AxesSubplot at 0x7f674e495750>"
            ]
          },
          "metadata": {},
          "execution_count": 16
        },
        {
          "output_type": "display_data",
          "data": {
            "image/png": "[encoded data removed]",
            "text/plain": [
              "<Figure size 432x288 with 1 Axes>"
            ]
          },
          "metadata": {
            "needs_background": "light"
          }
        }
      ],
      "source": [
        "import seaborn as sns\n",
        "sns.scatterplot(x=data['Happiness Score'], y=data['Generosity'])"
      ]
    },
    {
      "cell_type": "code",
      "source": [
        "sns.scatterplot(x=data['Happiness Score'], y=data['Economy (GDP per Capita)'])"
      ],
      "metadata": {
        "colab": {
          "base_uri": "https://localhost:8080/",
          "height": 297
        },
        "id": "83WZJn99aQMM",
        "outputId": "9d6c8aee-0572-44e7-ef16-dd452786d196"
      },
      "execution_count": 17,
      "outputs": [
        {
          "output_type": "execute_result",
          "data": {
            "text/plain": [
              "<matplotlib.axes._subplots.AxesSubplot at 0x7f674dc3ce10>"
            ]
          },
          "metadata": {},
          "execution_count": 17
        },
        {
          "output_type": "display_data",
          "data": {
            "image/png": "[encoded data removed]",
            "text/plain": [
              "<Figure size 432x288 with 1 Axes>"
            ]
          },
          "metadata": {
            "needs_background": "light"
          }
        }
      ]
    },
    {
      "cell_type": "markdown",
      "metadata": {
        "id": "oYyzrRDavh8b"
      },
      "source": [
        "### Taking the data average, is it clear if we getting happier or sadder? Which was the saddest year?"
      ]
    },
    {
      "cell_type": "code",
      "execution_count": 18,
      "metadata": {
        "colab": {
          "base_uri": "https://localhost:8080/"
        },
        "id": "JDp3QQhpvh8b",
        "outputId": "b065c3ce-d597-4a18-a1de-c24f8e13c5b6"
      },
      "outputs": [
        {
          "output_type": "stream",
          "name": "stdout",
          "text": [
            "      count      mean       std    min      25%     50%      75%    max\n",
            "Year                                                                   \n",
            "2015  148.0  5.402514  1.154213  2.839  4.54200  5.3090  6.29575  7.587\n",
            "2016  148.0  5.391919  1.148803  2.905  4.40175  5.3515  6.33175  7.526\n",
            "2017  148.0  5.402365  1.114185  2.905  4.52975  5.3175  6.21200  7.537\n",
            "\n",
            " 2016 is saddest year\n"
          ]
        }
      ],
      "source": [
        "datastat=data.groupby(by='Year')['Happiness Score'].describe()\n",
        "print(datastat)\n",
        "column=datastat['mean']\n",
        "min_index=column.idxmin()\n",
        "print('\\n',min_index,'is saddest year')"
      ]
    }
  ],
  "metadata": {
    "kernelspec": {
      "display_name": "DataScience",
      "language": "python",
      "name": "ds_env"
    },
    "language_info": {
      "codemirror_mode": {
        "name": "ipython",
        "version": 3
      },
      "file_extension": ".py",
      "mimetype": "text/x-python",
      "name": "python",
      "nbconvert_exporter": "python",
      "pygments_lexer": "ipython3",
      "version": "3.7.4"
    },
    "colab": {
      "name": "MinorProject1_AnuragDe.ipynb",
      "provenance": [],
      "collapsed_sections": [],
      "include_colab_link": true
    }
  },
  "nbformat": 4,
  "nbformat_minor": 0
}